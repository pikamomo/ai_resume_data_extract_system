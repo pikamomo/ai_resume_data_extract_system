{
  "cells": [
    {
      "cell_type": "code",
      "execution_count": null,
      "metadata": {},
      "outputs": [],
      "source": [
        "! pip install langchain langchain-community langchain-openai pypdf"
      ]
    },
    {
      "cell_type": "code",
      "execution_count": 1,
      "metadata": {},
      "outputs": [],
      "source": [
        "from pydantic import BaseModel, Field, HttpUrl\n",
        "from typing import Optional, List\n",
        "\n",
        "from langchain.prompts import PromptTemplate\n",
        "from langchain.chat_models import init_chat_model\n",
        "from langchain.output_parsers import PydanticOutputParser\n",
        "from langchain_community.document_loaders import PyPDFLoader\n",
        "\n",
        "from dotenv import load_dotenv, find_dotenv\n",
        "import os\n",
        "\n",
        "load_dotenv(find_dotenv())\n",
        "api_key = os.getenv(\"OPENAI_API_KEY\")"
      ]
    },
    {
      "cell_type": "code",
      "execution_count": 2,
      "metadata": {},
      "outputs": [],
      "source": [
        "class ContactInfo(BaseModel):\n",
        "    name: Optional[str] = Field(default=None, description=\"Full candidate name\")\n",
        "    email: Optional[str] = Field(default=None, description=\"Primary email address\")\n",
        "    phone: Optional[str] = Field(default=None, description=\"Primary phone number\")\n",
        "    location: Optional[str] = Field(default=None, description=\"City, State or City, Country\")\n",
        "    linkedin: Optional[HttpUrl] = Field(default=None, description=\"LinkedIn profile URL\")\n",
        "    github: Optional[HttpUrl] = Field(default=None, description=\"GitHub profile URL\")\n",
        "    website: Optional[HttpUrl] = Field(default=None, description=\"Personal website or portfolio URL\")\n",
        "\n",
        "\n",
        "class Education(BaseModel):\n",
        "    institution: Optional[str] = Field(default=None)\n",
        "    degree: Optional[str] = Field(default=None, description=\"Degree name e.g., Bachelor of Science\")\n",
        "    field_of_study: Optional[str] = Field(default=None, description=\"Major/Concentration\")\n",
        "    start_date: Optional[str] = Field(default=None, description=\"Start date, free-form string\")\n",
        "    end_date: Optional[str] = Field(default=None, description=\"End date or Present\")\n",
        "    gpa: Optional[str] = Field(default=None)\n",
        "\n",
        "\n",
        "class Experience(BaseModel):\n",
        "    company: Optional[str] = Field(default=None)\n",
        "    title: Optional[str] = Field(default=None)\n",
        "    start_date: Optional[str] = Field(default=None)\n",
        "    end_date: Optional[str] = Field(default=None)\n",
        "    location: Optional[str] = Field(default=None)\n",
        "    description: Optional[str] = Field(default=None, description=\"Bullets or paragraph of responsibilities/impact\")\n",
        "\n",
        "\n",
        "class Certification(BaseModel):\n",
        "    name: str\n",
        "    issuer: Optional[str] = None\n",
        "    date: Optional[str] = None\n",
        "    credential_id: Optional[str] = None\n",
        "    credential_url: Optional[HttpUrl] = None\n",
        "\n",
        "\n",
        "class Resume(BaseModel):\n",
        "    contact: ContactInfo = Field(default_factory=ContactInfo)\n",
        "    education: List[Education] = Field(default_factory=list)\n",
        "    experience: List[Experience] = Field(default_factory=list)\n",
        "    skills: List[str] = Field(default_factory=list)\n",
        "    certifications: List[Certification] = Field(default_factory=list)"
      ]
    },
    {
      "cell_type": "code",
      "execution_count": 3,
      "metadata": {},
      "outputs": [],
      "source": [
        "resume_template = \"\"\"\n",
        "You are an AI assistant tasked with extracting structured information from a resume.\n",
        "\n",
        "Only extract information that's present in the Resume class.\n",
        "\n",
        "Resume Context:\n",
        "{resume_text}\n",
        "\"\"\"\n",
        "\n",
        "prompt_template = PromptTemplate(\n",
        "    template=resume_template,\n",
        "    input_variables=[\"resume_text\"]\n",
        ")"
      ]
    },
    {
      "cell_type": "code",
      "execution_count": 4,
      "metadata": {},
      "outputs": [],
      "source": [
        "parser = PydanticOutputParser(pydantic_object=Resume)"
      ]
    },
    {
      "cell_type": "code",
      "execution_count": 5,
      "metadata": {},
      "outputs": [],
      "source": [
        "modle = init_chat_model(model = 'gpt-4o-mini', model_provider='openai').with_structured_output(Resume, method=\"function_calling\")"
      ]
    },
    {
      "cell_type": "code",
      "execution_count": 6,
      "metadata": {},
      "outputs": [
        {
          "data": {
            "text/plain": [
              "6047"
            ]
          },
          "execution_count": 6,
          "metadata": {},
          "output_type": "execute_result"
        }
      ],
      "source": [
        "file_path = './resume/ResumeEx2.pdf'\n",
        "loader = PyPDFLoader(file_path)\n",
        "\n",
        "docs = loader.load()\n",
        "\n",
        "resume_text = \"\\n\".join([doc.page_content for doc in docs])\n",
        "\n",
        "len(resume_text)"
      ]
    },
    {
      "cell_type": "code",
      "execution_count": null,
      "metadata": {},
      "outputs": [],
      "source": [
        "print(resume_text) "
      ]
    },
    {
      "cell_type": "code",
      "execution_count": null,
      "metadata": {},
      "outputs": [],
      "source": [
        "promp = prompt_template.invoke({'resume_text': resume_text})\n",
        "response = modle.invoke(promp)\n",
        "response.model_dump()"
      ]
    }
  ],
  "metadata": {
    "kernelspec": {
      "display_name": "airesume",
      "language": "python",
      "name": "python3"
    },
    "language_info": {
      "codemirror_mode": {
        "name": "ipython",
        "version": 3
      },
      "file_extension": ".py",
      "mimetype": "text/x-python",
      "name": "python",
      "nbconvert_exporter": "python",
      "pygments_lexer": "ipython3",
      "version": "3.13.7"
    }
  },
  "nbformat": 4,
  "nbformat_minor": 2
}
